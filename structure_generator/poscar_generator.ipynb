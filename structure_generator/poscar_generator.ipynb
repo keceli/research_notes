{
 "cells": [
  {
   "cell_type": "code",
   "execution_count": 7,
   "metadata": {},
   "outputs": [
    {
     "name": "stderr",
     "output_type": "stream",
     "text": [
      "Retrieving MaterialsDoc documents: 100%|██████████| 1/1 [00:00<00:00, 5777.28it/s]\n"
     ]
    }
   ],
   "source": [
    "from mp_api.client import MPRester\n",
    "API_KEY = \"ETq6U0uXhv64qL43JJOMS7udnzhwUSjI\"\n",
    "\n",
    "with MPRester(api_key=API_KEY) as mpr:\n",
    "    structure = mpr.get_structure_by_material_id(\"mp-22905\")\n",
    "    structure.to(fmt=\"poscar\", filename=\"POSCAR_LiCl\")\n",
    "# Replace with your Materials Project API key\n",
    "\n",
    "# # Initialize the MPRester with your API key\n",
    "# mpr = MPRester(API_KEY)\n",
    "\n",
    "# # Query the LiCl structure\n",
    "# structure = mpr.get_structure_by_material_id(\"mp-22905\")  # Replace with the correct material_id for LiCl\n",
    "\n",
    "# # Write the structure to a POSCAR file\n",
    "# structure.to(fmt=\"poscar\", filename=\"POSCAR_LiCl\")"
   ]
  },
  {
   "cell_type": "code",
   "execution_count": 1,
   "metadata": {},
   "outputs": [
    {
     "name": "stdout",
     "output_type": "stream",
     "text": [
      "Requirement already satisfied: MDAnalysis in /home/keceli/venv/chemmat/lib/python3.10/site-packages (2.7.0)\n",
      "Requirement already satisfied: mmtf-python>=1.0.0 in /home/keceli/venv/chemmat/lib/python3.10/site-packages (from MDAnalysis) (1.1.3)\n",
      "Requirement already satisfied: joblib>=0.12 in /home/keceli/venv/chemmat/lib/python3.10/site-packages (from MDAnalysis) (1.4.2)\n",
      "Requirement already satisfied: fasteners in /home/keceli/venv/chemmat/lib/python3.10/site-packages (from MDAnalysis) (0.19)\n",
      "Requirement already satisfied: GridDataFormats>=0.4.0 in /home/keceli/venv/chemmat/lib/python3.10/site-packages (from MDAnalysis) (1.0.2)\n",
      "Requirement already satisfied: matplotlib>=1.5.1 in /home/keceli/venv/chemmat/lib/python3.10/site-packages (from MDAnalysis) (3.9.0)\n",
      "Requirement already satisfied: numpy<2.0,>=1.22.3 in /home/keceli/venv/chemmat/lib/python3.10/site-packages (from MDAnalysis) (1.26.4)\n",
      "Requirement already satisfied: packaging in /home/keceli/venv/chemmat/lib/python3.10/site-packages (from MDAnalysis) (24.1)\n",
      "Requirement already satisfied: tqdm>=4.43.0 in /home/keceli/venv/chemmat/lib/python3.10/site-packages (from MDAnalysis) (4.66.4)\n",
      "Requirement already satisfied: threadpoolctl in /home/keceli/venv/chemmat/lib/python3.10/site-packages (from MDAnalysis) (3.5.0)\n",
      "Requirement already satisfied: mda-xdrlib in /home/keceli/venv/chemmat/lib/python3.10/site-packages (from MDAnalysis) (0.2.0)\n",
      "Requirement already satisfied: scipy>=1.5.0 in /home/keceli/venv/chemmat/lib/python3.10/site-packages (from MDAnalysis) (1.13.1)\n",
      "Requirement already satisfied: mrcfile in /home/keceli/venv/chemmat/lib/python3.10/site-packages (from GridDataFormats>=0.4.0->MDAnalysis) (1.5.0)\n",
      "Requirement already satisfied: pillow>=8 in /home/keceli/venv/chemmat/lib/python3.10/site-packages (from matplotlib>=1.5.1->MDAnalysis) (10.3.0)\n",
      "Requirement already satisfied: python-dateutil>=2.7 in /home/keceli/venv/chemmat/lib/python3.10/site-packages (from matplotlib>=1.5.1->MDAnalysis) (2.9.0.post0)\n",
      "Requirement already satisfied: kiwisolver>=1.3.1 in /home/keceli/venv/chemmat/lib/python3.10/site-packages (from matplotlib>=1.5.1->MDAnalysis) (1.4.5)\n",
      "Requirement already satisfied: fonttools>=4.22.0 in /home/keceli/venv/chemmat/lib/python3.10/site-packages (from matplotlib>=1.5.1->MDAnalysis) (4.53.0)\n",
      "Requirement already satisfied: pyparsing>=2.3.1 in /home/keceli/venv/chemmat/lib/python3.10/site-packages (from matplotlib>=1.5.1->MDAnalysis) (3.1.2)\n",
      "Requirement already satisfied: cycler>=0.10 in /home/keceli/venv/chemmat/lib/python3.10/site-packages (from matplotlib>=1.5.1->MDAnalysis) (0.12.1)\n",
      "Requirement already satisfied: contourpy>=1.0.1 in /home/keceli/venv/chemmat/lib/python3.10/site-packages (from matplotlib>=1.5.1->MDAnalysis) (1.2.1)\n",
      "Requirement already satisfied: msgpack>=1.0.0 in /home/keceli/venv/chemmat/lib/python3.10/site-packages (from mmtf-python>=1.0.0->MDAnalysis) (1.0.8)\n",
      "Requirement already satisfied: six>=1.5 in /home/keceli/venv/chemmat/lib/python3.10/site-packages (from python-dateutil>=2.7->matplotlib>=1.5.1->MDAnalysis) (1.16.0)\n",
      "\n",
      "\u001b[1m[\u001b[0m\u001b[34;49mnotice\u001b[0m\u001b[1;39;49m]\u001b[0m\u001b[39;49m A new release of pip available: \u001b[0m\u001b[31;49m22.3.1\u001b[0m\u001b[39;49m -> \u001b[0m\u001b[32;49m24.0\u001b[0m\n",
      "\u001b[1m[\u001b[0m\u001b[34;49mnotice\u001b[0m\u001b[1;39;49m]\u001b[0m\u001b[39;49m To update, run: \u001b[0m\u001b[32;49mpip install --upgrade pip\u001b[0m\n",
      "Note: you may need to restart the kernel to use updated packages.\n"
     ]
    }
   ],
   "source": [
    "%pip install --upgrade MDAnalysis\n"
   ]
  },
  {
   "cell_type": "code",
   "execution_count": 8,
   "metadata": {},
   "outputs": [],
   "source": [
    "from pymatgen.core import Structure\n",
    "from pymatgen.io.vasp import Poscar\n",
    "import random\n",
    "\n",
    "# Load the LiCl structure from a POSCAR file or create it\n",
    "structure = Structure.from_file(\"POSCAR_LiCl\")\n",
    "\n",
    "# Define the doping concentration\n",
    "doping_concentration = 0.02  # 2%\n",
    "num_atoms = len(structure)\n",
    "num_fe = int(num_atoms * doping_concentration / 2)\n",
    "\n",
    "# Randomly replace Li with Fe and Cl with Fe\n",
    "li_indices = [i for i, site in enumerate(structure) if site.species_string == \"Li\"]\n",
    "cl_indices = [i for i, site in enumerate(structure) if site.species_string == \"Cl\"]\n",
    "\n",
    "fe_li_indices = random.sample(li_indices, num_fe)\n",
    "fe_cl_indices = random.sample(cl_indices, num_fe)\n",
    "\n",
    "for i in fe_li_indices:\n",
    "    structure.replace(i, \"Fe\")\n",
    "\n",
    "for i in fe_cl_indices:\n",
    "    structure.replace(i, \"Fe\")\n",
    "\n",
    "# Save the doped structure to a POSCAR file\n",
    "poscar = Poscar(structure)\n",
    "poscar.write_file(\"POSCAR_doped\")\n"
   ]
  },
  {
   "cell_type": "code",
   "execution_count": 9,
   "metadata": {},
   "outputs": [],
   "source": [
    "from ase import Atoms\n",
    "from ase.build import bulk\n",
    "import random\n",
    "\n",
    "# Create a bulk LiCl structure\n",
    "structure = bulk('LiCl', 'rocksalt', a=5.64, cubic=True)\n",
    "\n",
    "# Define the doping concentration\n",
    "doping_concentration = 0.02  # 2%\n",
    "num_atoms = len(structure)\n",
    "num_fe = int(num_atoms * doping_concentration / 2)\n",
    "\n",
    "# Randomly replace Li with Fe and Cl with Fe\n",
    "li_indices = [i for i, atom in enumerate(structure) if atom.symbol == 'Li']\n",
    "cl_indices = [i for i, atom in enumerate(structure) if atom.symbol == 'Cl']\n",
    "\n",
    "fe_li_indices = random.sample(li_indices, num_fe)\n",
    "fe_cl_indices = random.sample(cl_indices, num_fe)\n",
    "\n",
    "for i in fe_li_indices:\n",
    "    structure[i].symbol = 'Fe'\n",
    "\n",
    "for i in fe_cl_indices:\n",
    "    structure[i].symbol = 'Fe'\n",
    "\n",
    "# Write the structure to a POSCAR file\n",
    "structure.write('POSCAR_doped', format='vasp')\n"
   ]
  },
  {
   "cell_type": "code",
   "execution_count": 10,
   "metadata": {},
   "outputs": [],
   "source": [
    "from ase import Atoms\n",
    "from ase.build import bulk, make_supercell\n",
    "import random\n",
    "\n",
    "# Create a bulk LiCl structure\n",
    "unit_cell = bulk('LiCl', 'rocksalt', a=5.64, cubic=True)\n",
    "\n",
    "# Define the doping concentration\n",
    "doping_concentration = 0.02  # 2%\n",
    "\n",
    "# Calculate the number of formula units needed to get a reasonable supercell size\n",
    "# We want the number of atoms to be large enough to accommodate the doping concentration\n",
    "num_formula_units = int(1 / doping_concentration)  # e.g., 1/0.02 = 50\n",
    "\n",
    "# Calculate the required supercell dimensions\n",
    "# LiCl has 2 atoms per unit cell (1 Li and 1 Cl)\n",
    "# We aim for a supercell that has at least num_formula_units atoms\n",
    "# We'll take the cubic root to get the dimensions (approximation)\n",
    "num_atoms_per_unit_cell = len(unit_cell)\n",
    "supercell_dimension = int((num_formula_units * num_atoms_per_unit_cell) ** (1/3)) + 1\n",
    "\n",
    "# Create the supercell\n",
    "supercell = make_supercell(unit_cell, [[supercell_dimension, 0, 0], \n",
    "                                       [0, supercell_dimension, 0], \n",
    "                                       [0, 0, supercell_dimension]])\n",
    "\n",
    "# Update the number of atoms in the supercell\n",
    "num_atoms = len(supercell)\n",
    "num_fe = int(num_atoms * doping_concentration / 2)\n",
    "\n",
    "# Randomly replace Li with Fe and Cl with Fe\n",
    "li_indices = [i for i, atom in enumerate(supercell) if atom.symbol == 'Li']\n",
    "cl_indices = [i for i, atom in enumerate(supercell) if atom.symbol == 'Cl']\n",
    "\n",
    "fe_li_indices = random.sample(li_indices, num_fe)\n",
    "fe_cl_indices = random.sample(cl_indices, num_fe)\n",
    "\n",
    "for i in fe_li_indices:\n",
    "    supercell[i].symbol = 'Fe'\n",
    "\n",
    "for i in fe_cl_indices:\n",
    "    supercell[i].symbol = 'Fe'\n",
    "\n",
    "# Write the structure to a POSCAR file\n",
    "supercell.write('POSCAR_doped', format='vasp')\n"
   ]
  },
  {
   "cell_type": "code",
   "execution_count": 12,
   "metadata": {},
   "outputs": [
    {
     "data": {
      "text/plain": [
       "4096"
      ]
     },
     "execution_count": 12,
     "metadata": {},
     "output_type": "execute_result"
    }
   ],
   "source": [
    "supercell.get_global_number_of_atoms()"
   ]
  },
  {
   "cell_type": "code",
   "execution_count": 1,
   "metadata": {},
   "outputs": [
    {
     "name": "stderr",
     "output_type": "stream",
     "text": [
      "/home/keceli/venv/chemmat/lib/python3.10/site-packages/tqdm/auto.py:21: TqdmWarning: IProgress not found. Please update jupyter and ipywidgets. See https://ipywidgets.readthedocs.io/en/stable/user_install.html\n",
      "  from .autonotebook import tqdm as notebook_tqdm\n",
      "/home/keceli/venv/chemmat/lib/python3.10/site-packages/MDAnalysis/topology/PDBParser.py:331: UserWarning: Element information is missing, elements attribute will not be populated. If needed these can be guessed using MDAnalysis.topology.guessers.\n",
      "  warnings.warn(\"Element information is missing, elements attribute \"\n",
      "/home/keceli/venv/chemmat/lib/python3.10/site-packages/MDAnalysis/coordinates/PDB.py:777: UserWarning: Unit cell dimensions not found. CRYST1 record set to unitary values.\n",
      "  warnings.warn(\"Unit cell dimensions not found. \"\n",
      "/home/keceli/venv/chemmat/lib/python3.10/site-packages/MDAnalysis/coordinates/PDB.py:1153: UserWarning: Found no information for attr: 'elements' Using default value of ' '\n",
      "  warnings.warn(\"Found no information for attr: '{}'\"\n",
      "/home/keceli/venv/chemmat/lib/python3.10/site-packages/MDAnalysis/coordinates/PDB.py:1153: UserWarning: Found no information for attr: 'formalcharges' Using default value of '0'\n",
      "  warnings.warn(\"Found no information for attr: '{}'\"\n",
      "/home/keceli/venv/chemmat/lib/python3.10/site-packages/MDAnalysis/coordinates/PDB.py:1200: UserWarning: Found missing chainIDs. Corresponding atoms will use value of 'X'\n",
      "  warnings.warn(\"Found missing chainIDs.\"\n"
     ]
    },
    {
     "ename": "ValueError",
     "evalue": "LAMMPS.DATAWriter: atom types must be convertible to integers",
     "output_type": "error",
     "traceback": [
      "\u001b[0;31m---------------------------------------------------------------------------\u001b[0m",
      "\u001b[0;31mValueError\u001b[0m                                Traceback (most recent call last)",
      "Cell \u001b[0;32mIn[1], line 23\u001b[0m\n\u001b[1;32m     10\u001b[0m system \u001b[38;5;241m=\u001b[39m mdapackmol\u001b[38;5;241m.\u001b[39mpackmol(\n\u001b[1;32m     11\u001b[0m     [mdapackmol\u001b[38;5;241m.\u001b[39mPackmolStructure(\n\u001b[1;32m     12\u001b[0m         water, number\u001b[38;5;241m=\u001b[39m\u001b[38;5;241m1000\u001b[39m,\n\u001b[0;32m   (...)\u001b[0m\n\u001b[1;32m     16\u001b[0m         instructions\u001b[38;5;241m=\u001b[39m[\u001b[38;5;124m'\u001b[39m\u001b[38;5;124minside box 0. 0. 0. 40. 40. 40.\u001b[39m\u001b[38;5;124m'\u001b[39m])]\n\u001b[1;32m     17\u001b[0m )\n\u001b[1;32m     19\u001b[0m \u001b[38;5;66;03m# the returned system is a MDAnalysis Universe\u001b[39;00m\n\u001b[1;32m     20\u001b[0m \u001b[38;5;66;03m# with all topology information from building blocks retained\u001b[39;00m\n\u001b[1;32m     21\u001b[0m \u001b[38;5;66;03m# which can then be saved into any format\u001b[39;00m\n\u001b[1;32m     22\u001b[0m \u001b[38;5;66;03m# eg to Lammps data file:\u001b[39;00m\n\u001b[0;32m---> 23\u001b[0m \u001b[43msystem\u001b[49m\u001b[38;5;241;43m.\u001b[39;49m\u001b[43matoms\u001b[49m\u001b[38;5;241;43m.\u001b[39;49m\u001b[43mwrite\u001b[49m\u001b[43m(\u001b[49m\u001b[38;5;124;43m'\u001b[39;49m\u001b[38;5;124;43mtopology.data\u001b[39;49m\u001b[38;5;124;43m'\u001b[39;49m\u001b[43m)\u001b[49m\n",
      "File \u001b[0;32m~/venv/chemmat/lib/python3.10/site-packages/MDAnalysis/core/groups.py:3567\u001b[0m, in \u001b[0;36mAtomGroup.write\u001b[0;34m(self, filename, file_format, filenamefmt, frames, **kwargs)\u001b[0m\n\u001b[1;32m   3565\u001b[0m \u001b[38;5;28;01mwith\u001b[39;00m writer(filename, n_atoms\u001b[38;5;241m=\u001b[39m\u001b[38;5;28mself\u001b[39m\u001b[38;5;241m.\u001b[39mn_atoms, \u001b[38;5;241m*\u001b[39m\u001b[38;5;241m*\u001b[39mkwargs) \u001b[38;5;28;01mas\u001b[39;00m w:\n\u001b[1;32m   3566\u001b[0m     \u001b[38;5;28;01mif\u001b[39;00m frames \u001b[38;5;129;01mis\u001b[39;00m \u001b[38;5;28;01mNone\u001b[39;00m:\n\u001b[0;32m-> 3567\u001b[0m         \u001b[43mw\u001b[49m\u001b[38;5;241;43m.\u001b[39;49m\u001b[43mwrite\u001b[49m\u001b[43m(\u001b[49m\u001b[38;5;28;43mself\u001b[39;49m\u001b[38;5;241;43m.\u001b[39;49m\u001b[43matoms\u001b[49m\u001b[43m)\u001b[49m\n\u001b[1;32m   3568\u001b[0m     \u001b[38;5;28;01melse\u001b[39;00m:\n\u001b[1;32m   3569\u001b[0m         current_frame \u001b[38;5;241m=\u001b[39m trj\u001b[38;5;241m.\u001b[39mts\u001b[38;5;241m.\u001b[39mframe\n",
      "File \u001b[0;32m~/venv/chemmat/lib/python3.10/site-packages/MDAnalysis/core/groups.py:4648\u001b[0m, in \u001b[0;36mrequires.<locals>.require_dec.<locals>.check_args\u001b[0;34m(*args, **kwargs)\u001b[0m\n\u001b[1;32m   4641\u001b[0m         \u001b[38;5;28;01mif\u001b[39;00m missing:\n\u001b[1;32m   4642\u001b[0m             \u001b[38;5;28;01mraise\u001b[39;00m NoDataError(\n\u001b[1;32m   4643\u001b[0m                 \u001b[38;5;124m\"\u001b[39m\u001b[38;5;132;01m{funcname}\u001b[39;00m\u001b[38;5;124m failed. \u001b[39m\u001b[38;5;124m\"\u001b[39m\n\u001b[1;32m   4644\u001b[0m                 \u001b[38;5;124m\"\u001b[39m\u001b[38;5;124mAtomGroup is missing the following required \u001b[39m\u001b[38;5;124m\"\u001b[39m\n\u001b[1;32m   4645\u001b[0m                 \u001b[38;5;124m\"\u001b[39m\u001b[38;5;124mattributes: \u001b[39m\u001b[38;5;132;01m{attrs}\u001b[39;00m\u001b[38;5;124m\"\u001b[39m\u001b[38;5;241m.\u001b[39mformat(\n\u001b[1;32m   4646\u001b[0m                     funcname\u001b[38;5;241m=\u001b[39mfunc\u001b[38;5;241m.\u001b[39m\u001b[38;5;18m__name__\u001b[39m,\n\u001b[1;32m   4647\u001b[0m                     attrs\u001b[38;5;241m=\u001b[39m\u001b[38;5;124m'\u001b[39m\u001b[38;5;124m, \u001b[39m\u001b[38;5;124m'\u001b[39m\u001b[38;5;241m.\u001b[39mjoin(missing)))\n\u001b[0;32m-> 4648\u001b[0m \u001b[38;5;28;01mreturn\u001b[39;00m \u001b[43mfunc\u001b[49m\u001b[43m(\u001b[49m\u001b[38;5;241;43m*\u001b[39;49m\u001b[43margs\u001b[49m\u001b[43m,\u001b[49m\u001b[43m \u001b[49m\u001b[38;5;241;43m*\u001b[39;49m\u001b[38;5;241;43m*\u001b[39;49m\u001b[43mkwargs\u001b[49m\u001b[43m)\u001b[49m\n",
      "File \u001b[0;32m~/venv/chemmat/lib/python3.10/site-packages/MDAnalysis/coordinates/LAMMPS.py:412\u001b[0m, in \u001b[0;36mDATAWriter.write\u001b[0;34m(self, selection, frame)\u001b[0m\n\u001b[1;32m    409\u001b[0m \u001b[38;5;28;01mexcept\u001b[39;00m \u001b[38;5;167;01mValueError\u001b[39;00m:\n\u001b[1;32m    410\u001b[0m     errmsg \u001b[38;5;241m=\u001b[39m (\u001b[38;5;124m\"\u001b[39m\u001b[38;5;124mLAMMPS.DATAWriter: atom types must be convertible to \u001b[39m\u001b[38;5;124m\"\u001b[39m\n\u001b[1;32m    411\u001b[0m               \u001b[38;5;124m\"\u001b[39m\u001b[38;5;124mintegers\u001b[39m\u001b[38;5;124m\"\u001b[39m)\n\u001b[0;32m--> 412\u001b[0m     \u001b[38;5;28;01mraise\u001b[39;00m \u001b[38;5;167;01mValueError\u001b[39;00m(errmsg) \u001b[38;5;28;01mfrom\u001b[39;00m \u001b[38;5;28;01mNone\u001b[39;00m\n\u001b[1;32m    414\u001b[0m \u001b[38;5;28;01mtry\u001b[39;00m:\n\u001b[1;32m    415\u001b[0m     velocities \u001b[38;5;241m=\u001b[39m atoms\u001b[38;5;241m.\u001b[39mvelocities\n",
      "\u001b[0;31mValueError\u001b[0m: LAMMPS.DATAWriter: atom types must be convertible to integers"
     ]
    }
   ],
   "source": [
    "import MDAnalysis as mda\n",
    "import mdapackmol\n",
    "\n",
    "# load individual molecule files\n",
    "water = mda.Universe('water.pdb')\n",
    "urea = mda.Universe('urea.pdb')\n",
    "\n",
    "# call Packmol with MDAnalysis objects as arguments\n",
    "# the 'instructions' allow for any valid Packmol commands\n",
    "system = mdapackmol.packmol(\n",
    "    [mdapackmol.PackmolStructure(\n",
    "        water, number=1000,\n",
    "        instructions=['inside box 0. 0. 0. 40. 40. 40.']),\n",
    "     mdapackmol.PackmolStructure(\n",
    "        urea, number=400,\n",
    "        instructions=['inside box 0. 0. 0. 40. 40. 40.'])]\n",
    ")\n",
    "\n",
    "# the returned system is a MDAnalysis Universe\n",
    "# with all topology information from building blocks retained\n",
    "# which can then be saved into any format\n",
    "# eg to Lammps data file:\n",
    "system.atoms.write('topology.data')"
   ]
  },
  {
   "cell_type": "code",
   "execution_count": null,
   "metadata": {},
   "outputs": [],
   "source": []
  }
 ],
 "metadata": {
  "kernelspec": {
   "display_name": "chemmat",
   "language": "python",
   "name": "chemmat"
  },
  "language_info": {
   "codemirror_mode": {
    "name": "ipython",
    "version": 3
   },
   "file_extension": ".py",
   "mimetype": "text/x-python",
   "name": "python",
   "nbconvert_exporter": "python",
   "pygments_lexer": "ipython3",
   "version": "3.10.9"
  }
 },
 "nbformat": 4,
 "nbformat_minor": 2
}
